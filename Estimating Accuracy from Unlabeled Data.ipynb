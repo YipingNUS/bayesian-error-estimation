{
 "cells": [
  {
   "cell_type": "markdown",
   "metadata": {},
   "source": [
    "## Estimating Accuracy from Unlabeled Data\n",
    "\n",
    "Try to implement the Bayesian Error Estimation (BEE) model in following paper. This is based on my limited understanding and I can't guarantee the implementation is bug-free.\n",
    "\n",
    "[Emmanouil Antonios Platanios, Avinava Dubey, Tom Mitchell ; Proceedings of The 33rd International Conference on Machine Learning, PMLR 48:1416-1425, 2016.](http://proceedings.mlr.press/v48/platanios16.html)"
   ]
  },
  {
   "cell_type": "code",
   "execution_count": 24,
   "metadata": {},
   "outputs": [],
   "source": [
    "import numpy as np"
   ]
  },
  {
   "cell_type": "markdown",
   "metadata": {},
   "source": [
    "### 0. Generate dummy data\n",
    "\n",
    "In real-life, the estimations should come from estimators"
   ]
  },
  {
   "cell_type": "code",
   "execution_count": 161,
   "metadata": {},
   "outputs": [],
   "source": [
    "num_iters = 50\n",
    "num_estimators = 4\n",
    "num_samples = 1000"
   ]
  },
  {
   "cell_type": "code",
   "execution_count": 162,
   "metadata": {},
   "outputs": [],
   "source": [
    "labeling_matrix = np.random.randint(0, 2, (num_samples, num_estimators))"
   ]
  },
  {
   "cell_type": "markdown",
   "metadata": {},
   "source": [
    "### 1. Gibbs Sampling"
   ]
  },
  {
   "cell_type": "code",
   "execution_count": 163,
   "metadata": {},
   "outputs": [
    {
     "name": "stdout",
     "output_type": "stream",
     "text": [
      "initial error rate: [0.17222602 0.0660327  0.1914704  0.00341093]\n"
     ]
    }
   ],
   "source": [
    "true_labels = np.random.randint(0, 2, num_samples)\n",
    "error_rates = 0.2*np.random.random(num_estimators)\n",
    "print(\"initial error rate:\", error_rates)"
   ]
  },
  {
   "cell_type": "code",
   "execution_count": 164,
   "metadata": {},
   "outputs": [],
   "source": [
    "# set the hyper-parameters > 1 so that it's convex shape with mean 0.5. \n",
    "alpha_p, beta_p, alpha_e, beta_e = 2, 2, 2, 10"
   ]
  },
  {
   "cell_type": "code",
   "execution_count": 157,
   "metadata": {},
   "outputs": [],
   "source": [
    "def sample_p():\n",
    "    \"\"\" equation 2 + discounting the old label when sampling\n",
    "    \"\"\"\n",
    "    sigma_l = np.sum(true_labels)\n",
    "    return np.random.beta(alpha_p + sigma_l, beta_p + num_samples - sigma_l)"
   ]
  },
  {
   "cell_type": "code",
   "execution_count": 158,
   "metadata": {},
   "outputs": [],
   "source": [
    "def sample_l(p, i):\n",
    "    \"\"\" equation 3\n",
    "    \"\"\"\n",
    "    pi = 1\n",
    "    # the number of correct predictions of each estimator. dim [num_estimators, 1]\n",
    "    pi = np.zeros(2)  # the pi value for l=0 and l=1\n",
    "    for k in range(2):    \n",
    "        num_corrects = labeling_matrix[i,:] == k\n",
    "        temp = np.power(error_rates, 1 - num_corrects)*np.power(1 - error_rates, num_corrects)\n",
    "        pi[k] = np.prod(temp)\n",
    "    prob = pi * np.asarray([1-p, p])\n",
    "    positive_prob = prob[1]/np.sum(prob)\n",
    "    return random.binomial(1, positive_prob)"
   ]
  },
  {
   "cell_type": "code",
   "execution_count": 159,
   "metadata": {},
   "outputs": [],
   "source": [
    "def sample_e(j):\n",
    "    \"\"\" equation 4\n",
    "    \"\"\"\n",
    "    sigma_j = np.sum(labeling_matrix[:, j] == true_labels)\n",
    "    return np.random.beta(alpha_e + sigma_j, beta_e + num_samples - sigma_j)"
   ]
  },
  {
   "cell_type": "code",
   "execution_count": 167,
   "metadata": {},
   "outputs": [
    {
     "name": "stdout",
     "output_type": "stream",
     "text": [
      "Iteration 0 :\n",
      "Error rates [0.49919948 0.50076524 0.49701213 0.51337747]\n",
      "Iteration 1 :\n",
      "Error rates [0.48429592 0.46654233 0.500574   0.49084223]\n",
      "Iteration 2 :\n",
      "Error rates [0.49538885 0.52638187 0.51562536 0.55249207]\n",
      "Iteration 3 :\n",
      "Error rates [0.50461455 0.49896605 0.45405736 0.43513692]\n",
      "Iteration 4 :\n",
      "Error rates [0.50585267 0.50016561 0.54600378 0.56159173]\n",
      "Iteration 5 :\n",
      "Error rates [0.46981574 0.54323903 0.48107222 0.47180822]\n",
      "Iteration 6 :\n",
      "Error rates [0.52413538 0.46328766 0.48120521 0.5242842 ]\n",
      "Iteration 7 :\n",
      "Error rates [0.47433243 0.53387303 0.50810609 0.50066616]\n",
      "Iteration 8 :\n",
      "Error rates [0.52163844 0.46620497 0.48457315 0.48836471]\n",
      "Iteration 9 :\n",
      "Error rates [0.4845304  0.53178741 0.52696287 0.51529558]\n",
      "Iteration 10 :\n",
      "Error rates [0.54335754 0.45901428 0.50354554 0.47233309]\n",
      "Iteration 11 :\n",
      "Error rates [0.46115397 0.51916769 0.47709521 0.51915642]\n",
      "Iteration 12 :\n",
      "Error rates [0.56661273 0.48283402 0.52409068 0.47013   ]\n",
      "Iteration 13 :\n",
      "Error rates [0.42143031 0.53541938 0.50889627 0.54169715]\n",
      "Iteration 14 :\n",
      "Error rates [0.59075623 0.4602389  0.49906063 0.46286303]\n",
      "Iteration 15 :\n",
      "Error rates [0.40450259 0.53281431 0.46246593 0.49473603]\n",
      "Iteration 16 :\n",
      "Error rates [0.57993347 0.47556641 0.50147077 0.53276774]\n",
      "Iteration 17 :\n",
      "Error rates [0.43501737 0.55293329 0.49578115 0.4608944 ]\n",
      "Iteration 18 :\n",
      "Error rates [0.5727199  0.47600079 0.51878146 0.54243511]\n",
      "Iteration 19 :\n",
      "Error rates [0.44295965 0.47523821 0.52376938 0.46804696]\n",
      "Iteration 20 :\n",
      "Error rates [0.54003083 0.47263215 0.46510105 0.52929786]\n",
      "Iteration 21 :\n",
      "Error rates [0.45058801 0.52115566 0.57759425 0.43302821]\n",
      "Iteration 22 :\n",
      "Error rates [0.51561735 0.46053507 0.40152942 0.52968189]\n",
      "Iteration 23 :\n",
      "Error rates [0.49287774 0.52116075 0.56623642 0.46512948]\n",
      "Iteration 24 :\n",
      "Error rates [0.5095159  0.46456746 0.47854113 0.49913499]\n",
      "Iteration 25 :\n",
      "Error rates [0.47434545 0.57676991 0.54317144 0.50335886]\n",
      "Iteration 26 :\n",
      "Error rates [0.52107631 0.45186128 0.42057624 0.51852963]\n",
      "Iteration 27 :\n",
      "Error rates [0.50373918 0.54926715 0.61425851 0.50283385]\n",
      "Iteration 28 :\n",
      "Error rates [0.49967417 0.46413679 0.40148464 0.51902271]\n",
      "Iteration 29 :\n",
      "Error rates [0.51965425 0.52673652 0.58846685 0.46902265]\n",
      "Iteration 30 :\n",
      "Error rates [0.45912674 0.4421102  0.42683224 0.51053381]\n",
      "Iteration 31 :\n",
      "Error rates [0.53324434 0.54515719 0.61036179 0.46099697]\n",
      "Iteration 32 :\n",
      "Error rates [0.45292056 0.46398159 0.35423224 0.53872379]\n",
      "Iteration 33 :\n",
      "Error rates [0.53421318 0.51784299 0.62342671 0.48381193]\n",
      "Iteration 34 :\n",
      "Error rates [0.46751558 0.47975891 0.38680905 0.51159717]\n",
      "Iteration 35 :\n",
      "Error rates [0.51764452 0.5553687  0.60051322 0.43646927]\n",
      "Iteration 36 :\n",
      "Error rates [0.44196138 0.42023349 0.43737896 0.57049602]\n",
      "Iteration 37 :\n",
      "Error rates [0.51109779 0.58994464 0.55757796 0.41845575]\n",
      "Iteration 38 :\n",
      "Error rates [0.44848486 0.41258658 0.41895911 0.55445459]\n",
      "Iteration 39 :\n",
      "Error rates [0.53573121 0.60287826 0.55743215 0.44990486]\n",
      "Iteration 40 :\n",
      "Error rates [0.4642384  0.42748587 0.51365621 0.54643143]\n",
      "Iteration 41 :\n",
      "Error rates [0.55652795 0.54336531 0.48410161 0.44810043]\n",
      "Iteration 42 :\n",
      "Error rates [0.46898715 0.45569532 0.52692768 0.56906356]\n",
      "Iteration 43 :\n",
      "Error rates [0.52662208 0.54560403 0.50603897 0.42575619]\n",
      "Iteration 44 :\n",
      "Error rates [0.48094401 0.45486849 0.49770753 0.54766279]\n",
      "Iteration 45 :\n",
      "Error rates [0.5019115  0.55274229 0.48581963 0.4528588 ]\n",
      "Iteration 46 :\n",
      "Error rates [0.51036034 0.452248   0.53231732 0.51780996]\n",
      "Iteration 47 :\n",
      "Error rates [0.46187345 0.55939114 0.43766908 0.45037287]\n",
      "Iteration 48 :\n",
      "Error rates [0.51382627 0.44670577 0.53341242 0.53304522]\n",
      "Iteration 49 :\n",
      "Error rates [0.46795986 0.53335574 0.49538792 0.44908909]\n"
     ]
    }
   ],
   "source": [
    "for it in range(num_iters):\n",
    "    for i in range(num_samples):\n",
    "        p = sample_p()\n",
    "        true_labels[i] = sample_l(p, i)\n",
    "    for j in range(num_estimators):\n",
    "        error_rates[j] = sample_e(j)\n",
    "    print(\"Iteration\", it, \":\")\n",
    "    print(\"Error rates\", error_rates)\n",
    "    #print(true_labels)"
   ]
  },
  {
   "cell_type": "code",
   "execution_count": null,
   "metadata": {},
   "outputs": [],
   "source": []
  }
 ],
 "metadata": {
  "kernelspec": {
   "display_name": "Python 3",
   "language": "python",
   "name": "python3"
  },
  "language_info": {
   "codemirror_mode": {
    "name": "ipython",
    "version": 3
   },
   "file_extension": ".py",
   "mimetype": "text/x-python",
   "name": "python",
   "nbconvert_exporter": "python",
   "pygments_lexer": "ipython3",
   "version": "3.6.10"
  }
 },
 "nbformat": 4,
 "nbformat_minor": 4
}
